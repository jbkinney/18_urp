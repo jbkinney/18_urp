{
 "cells": [
  {
   "cell_type": "markdown",
   "metadata": {},
   "source": [
    "# Notebook 4: Transcription factor binding sites in *Escherichia coli*\n",
    "\n",
    "### by Justin B. Kinney"
   ]
  },
  {
   "cell_type": "markdown",
   "metadata": {},
   "source": [
    "In this example, we will practice analyzing a small biological dataset. Specifically, we will statistically characterize the DNA sequences of a transcription factor, CRP,  in the bacterium  *Escherichia coli*. CRP is one of the most pleiotropic *E. coli* transcriptio factor, with over 350 functional binding sites throughout the bacterium's 4.6 Mb genome.  "
   ]
  },
  {
   "cell_type": "code",
   "execution_count": null,
   "metadata": {
    "collapsed": true
   },
   "outputs": [],
   "source": [
    "# Always put this first\n",
    "%matplotlib inline\n",
    "import numpy as np\n",
    "import pandas as pd\n",
    "import matplotlib.pyplot as plt"
   ]
  },
  {
   "cell_type": "markdown",
   "metadata": {},
   "source": [
    "If you open 'binding_site_db.txt', you will see that TF names are listed in the second column. First we need to know what the delimeter is. Let's load all lines and look at the last one. "
   ]
  },
  {
   "cell_type": "code",
   "execution_count": null,
   "metadata": {
    "collapsed": true
   },
   "outputs": [],
   "source": [
    "# Open binding site file for viewing (might not work on Windows)\n",
    "!open binding_site_db.txt"
   ]
  },
  {
   "cell_type": "code",
   "execution_count": null,
   "metadata": {},
   "outputs": [],
   "source": [
    "# Open file in Python and load all lines into list\n",
    "db_local_file = \"binding_site_db.txt\"\n",
    "f = open(db_local_file)\n",
    "lines = f.readlines()\n",
    "print(len(lines))"
   ]
  },
  {
   "cell_type": "code",
   "execution_count": null,
   "metadata": {},
   "outputs": [],
   "source": [
    "# Look at what the first line is\n",
    "print('First line:\\n', repr(lines[0]))"
   ]
  },
  {
   "cell_type": "code",
   "execution_count": null,
   "metadata": {},
   "outputs": [],
   "source": [
    "# Look at what the last line is\n",
    "print('Last line:\\n', repr(lines[-1]))"
   ]
  },
  {
   "cell_type": "markdown",
   "metadata": {},
   "source": [
    "Ah, the file uses tabs. So the quickest thing that might work is to keep only lines that contain \"CRP\" with a tab character on either side. Let's try that"
   ]
  },
  {
   "cell_type": "code",
   "execution_count": null,
   "metadata": {},
   "outputs": [],
   "source": [
    "# Get lines for CRP\n",
    "string_to_match = '\\tCRP\\t'\n",
    "lines_we_want = [l for l in lines if string_to_match in l]\n",
    "len(lines_we_want)"
   ]
  },
  {
   "cell_type": "markdown",
   "metadata": {},
   "source": [
    "Now we have a list of lines. Here are the first and last lines."
   ]
  },
  {
   "cell_type": "code",
   "execution_count": null,
   "metadata": {},
   "outputs": [],
   "source": [
    "# Check first line and the last line\n",
    "print(\"First line:\\n\", lines_we_want[0])\n",
    "print(\"Last line:\\n\", lines_we_want[-1])"
   ]
  },
  {
   "cell_type": "code",
   "execution_count": null,
   "metadata": {},
   "outputs": [],
   "source": [
    "# Split lines into atoms\n",
    "x = lines_we_want[-1]\n",
    "atoms = x.split('\\t')\n",
    "print(atoms)"
   ]
  },
  {
   "cell_type": "code",
   "execution_count": null,
   "metadata": {},
   "outputs": [],
   "source": [
    "# Extract DNA sequence\n",
    "print(atoms[11].upper())"
   ]
  },
  {
   "cell_type": "code",
   "execution_count": null,
   "metadata": {},
   "outputs": [],
   "source": [
    "# Extract all sites\n",
    "sites = [x.split('\\t')[11].upper() for x in lines_we_want]\n",
    "print(sites)"
   ]
  },
  {
   "cell_type": "code",
   "execution_count": null,
   "metadata": {},
   "outputs": [],
   "source": [
    "# Let's figure out how many sites there are of each length\n",
    "length_dict = {}\n",
    "for site in sites:\n",
    "    length = len(site)\n",
    "    if length in length_dict.keys():\n",
    "        length_dict[length] += 1\n",
    "    else:\n",
    "        length_dict[length] = 1\n",
    "print(length_dict)"
   ]
  },
  {
   "cell_type": "code",
   "execution_count": null,
   "metadata": {},
   "outputs": [],
   "source": [
    "# Now find the length with the most sites\n",
    "counts = list(length_dict.values())\n",
    "lengths = list(length_dict.keys())    \n",
    "index = np.argmax(counts)\n",
    "chosen_length = lengths[index]\n",
    "chosen_counts = counts[index]\n",
    "print('Choosing length %d: %d sites'%(chosen_length,chosen_counts))"
   ]
  },
  {
   "cell_type": "code",
   "execution_count": null,
   "metadata": {},
   "outputs": [],
   "source": [
    "# Grab the sites of length 42\n",
    "chosen_sites = [site for site in sites if len(site)==chosen_length]\n",
    "print(len(chosen_sites))\n",
    "print(chosen_sites[:5])"
   ]
  },
  {
   "cell_type": "markdown",
   "metadata": {},
   "source": [
    "Now let's count how many times each base occurs at each position in this list. After a little thought we conclude that we want to do something like this:"
   ]
  },
  {
   "cell_type": "code",
   "execution_count": null,
   "metadata": {},
   "outputs": [],
   "source": [
    "# Fill in counts matrix\n",
    "counts_matrix = np.zeros([chosen_length,4])\n",
    "bases = 'ACGT'\n",
    "for s in chosen_sites:\n",
    "    for i in range(chosen_length):\n",
    "        for b, base in enumerate(bases):\n",
    "            counts_matrix[i,b] += (s[i] == base)\n",
    "print(counts_matrix)"
   ]
  },
  {
   "cell_type": "code",
   "execution_count": null,
   "metadata": {},
   "outputs": [],
   "source": [
    "# Turn this into a function that can process any TF name!\n",
    "def get_counts_matrix(tf_name):\n",
    "    print('Getting counts for %s...'%tf_name)\n",
    "    \n",
    "    # Get lines for tf\n",
    "    string_to_match = '\\t%s\\t'%tf_name\n",
    "    lines_we_want = [l for l in lines if string_to_match in l]\n",
    "    assert len(lines_we_want) > 0, \\\n",
    "        'No lines found for TF %s'%tf_name\n",
    "        \n",
    "    # Parse sites from lines\n",
    "    sites = [x.split('\\t')[11].upper() for x in lines_we_want]\n",
    "\n",
    "    # Figure out how many sites there are of each length\n",
    "    length_dict = {}\n",
    "    for site in sites:\n",
    "        l = len(site)\n",
    "        if l in length_dict.keys():\n",
    "            length_dict[l] += 1\n",
    "        else:\n",
    "            length_dict[l] = 1\n",
    "    print('length_dict: %s'%str(length_dict))\n",
    "            \n",
    "    # Now find the length with the most sites\n",
    "    counts = list(length_dict.values())\n",
    "    lengths = list(length_dict.keys())   \n",
    "    index = np.argmax(counts)\n",
    "    chosen_length = lengths[index]\n",
    "    chosen_counts = counts[index]\n",
    "    print('Choosing length %d: %d sites'%(chosen_length,chosen_counts))\n",
    "    \n",
    "    # Get sites of chosen length\n",
    "    chosen_sites = [site for site in sites if len(site)==chosen_length]\n",
    "\n",
    "    counts_matrix = np.zeros([chosen_length,4])\n",
    "    bases = 'ACGT'\n",
    "    for s in chosen_sites:\n",
    "        for i in range(chosen_length):\n",
    "            for b, base in enumerate(bases):\n",
    "                counts_matrix[i,b] += (s[i] == base)\n",
    "                \n",
    "    return counts_matrix"
   ]
  },
  {
   "cell_type": "code",
   "execution_count": null,
   "metadata": {},
   "outputs": [],
   "source": [
    "get_counts_matrix('CRP')"
   ]
  },
  {
   "cell_type": "markdown",
   "metadata": {},
   "source": [
    "Looks reasonable, but it would be nice to have a graphical representation of this."
   ]
  },
  {
   "cell_type": "code",
   "execution_count": null,
   "metadata": {},
   "outputs": [],
   "source": [
    "counts_matrix = get_counts_matrix('CRP')\n",
    "plt.imshow(counts_matrix)\n",
    "plt.show()"
   ]
  },
  {
   "cell_type": "markdown",
   "metadata": {},
   "source": [
    "Hard to see. Flip this thing on it's side and make it bigger. Also, which colors mean what?"
   ]
  },
  {
   "cell_type": "code",
   "execution_count": null,
   "metadata": {},
   "outputs": [],
   "source": [
    "plt.figure(figsize=[12,2])\n",
    "plt.imshow(counts_matrix.T)\n",
    "plt.colorbar()\n",
    "plt.show()"
   ]
  },
  {
   "cell_type": "markdown",
   "metadata": {},
   "source": [
    "That's better, but it will still take some playing around with to make it pretty. It's all blurry, the y-axis labels are meaningless, etc.\n",
    "\n",
    "Just have to play around a while until you get something that looks presentable. Here's what I came up with. "
   ]
  },
  {
   "cell_type": "code",
   "execution_count": null,
   "metadata": {},
   "outputs": [],
   "source": [
    "# Compute occurence frequency of each base at each position, not the total counts\n",
    "num_sites = len(sites)\n",
    "freq_matrix = counts_matrix.T/num_sites\n",
    "L = counts_matrix.shape[0]\n",
    "\n",
    "# Set plotting parameter\n",
    "figure_size = [12,3]\n",
    "label_size = 16\n",
    "title_size = 24\n",
    "colormap = plt.get_cmap('Greens')\n",
    "\n",
    "# Specify figure of proper size\n",
    "plt.figure(figsize=figure_size)\n",
    "\n",
    "# Show matrix without any smoothing\n",
    "plt.imshow(freq_matrix, cmap=colormap)\n",
    "\n",
    "# Put interpretable letters on y-axis\n",
    "plt.yticks(range(4),['A','C','G','T'], fontsize=label_size)\n",
    "\n",
    "# Label positions symmetically\n",
    "positions = np.arange(L)-(L/2)+1\n",
    "indices = np.arange(0,L,5)\n",
    "plt.xticks(indices+.5, positions[indices].astype(int), fontsize=label_size)\n",
    "\n",
    "# Fix colorbar\n",
    "plt.clim([0, 1])\n",
    "cbar = plt.colorbar(ticks=np.linspace(0,1,5))\n",
    "cbar.ax.tick_params(labelsize=label_size) \n",
    "\n",
    "# Draw a title\n",
    "plt.title('CRP base frequency matrix', fontsize=title_size)\n",
    "\n",
    "# Fix spacing in plot\n",
    "plt.tight_layout()\n",
    "\n",
    "# Save the figure\n",
    "picture_file = 'crp_matrix.png'\n",
    "plt.savefig(picture_file)\n",
    "\n",
    "# Draw the plot\n",
    "plt.show()\n",
    "\n"
   ]
  },
  {
   "cell_type": "markdown",
   "metadata": {},
   "source": [
    "Let's check to make sure this actually worked."
   ]
  },
  {
   "cell_type": "code",
   "execution_count": null,
   "metadata": {},
   "outputs": [],
   "source": [
    "# WARNING: Might not work in Windows\n",
    "!open $picture_file"
   ]
  },
  {
   "cell_type": "markdown",
   "metadata": {},
   "source": [
    "We should also save a text file that has the base counts at each position, so we can remake plots like this whenever we want"
   ]
  },
  {
   "cell_type": "code",
   "execution_count": null,
   "metadata": {},
   "outputs": [],
   "source": [
    "# Save counts to text file\n",
    "counts_matrix_file = 'crp_counts_matrix.txt'\n",
    "np.savetxt(counts_matrix_file,counts_matrix)"
   ]
  },
  {
   "cell_type": "code",
   "execution_count": null,
   "metadata": {},
   "outputs": [],
   "source": [
    "# WARNING: Might not work in Windows\n",
    "!open $counts_matrix_file"
   ]
  },
  {
   "cell_type": "markdown",
   "metadata": {},
   "source": [
    "This is hard for us humans to read. Let's change the text format so that we can eyeball this when we need to"
   ]
  },
  {
   "cell_type": "code",
   "execution_count": null,
   "metadata": {},
   "outputs": [],
   "source": [
    "# Save counts to text file more cleanly\n",
    "np.savetxt(counts_matrix_file,counts_matrix, fmt='%d', delimiter='\\t')"
   ]
  },
  {
   "cell_type": "code",
   "execution_count": null,
   "metadata": {},
   "outputs": [],
   "source": [
    "# WARNING: Might not work in Windows\n",
    "!open $counts_matrix_file"
   ]
  },
  {
   "cell_type": "markdown",
   "metadata": {},
   "source": [
    "We're done!"
   ]
  }
 ],
 "metadata": {
  "kernelspec": {
   "display_name": "anaconda_kernel",
   "language": "python",
   "name": "anaconda_kernel"
  },
  "language_info": {
   "codemirror_mode": {
    "name": "ipython",
    "version": 3
   },
   "file_extension": ".py",
   "mimetype": "text/x-python",
   "name": "python",
   "nbconvert_exporter": "python",
   "pygments_lexer": "ipython3",
   "version": "3.6.3"
  }
 },
 "nbformat": 4,
 "nbformat_minor": 1
}
