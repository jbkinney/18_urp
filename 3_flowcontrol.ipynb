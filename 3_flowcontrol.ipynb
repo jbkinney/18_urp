{
 "cells": [
  {
   "cell_type": "markdown",
   "metadata": {},
   "source": [
    "# Notebook 3: Flow control\n",
    "\n",
    "### by Justin B. Kinney"
   ]
  },
  {
   "cell_type": "code",
   "execution_count": null,
   "metadata": {},
   "outputs": [],
   "source": [
    "# Always put this first\n",
    "%matplotlib inline\n",
    "import numpy as np\n",
    "import pandas as pd\n",
    "import matplotlib.pyplot as plt"
   ]
  },
  {
   "cell_type": "markdown",
   "metadata": {},
   "source": [
    "## If, elif, else blocks"
   ]
  },
  {
   "cell_type": "markdown",
   "metadata": {},
   "source": [
    "If blocks allow blocks of code to be executed only under specific conditions."
   ]
  },
  {
   "cell_type": "code",
   "execution_count": null,
   "metadata": {},
   "outputs": [],
   "source": [
    "x = 5\n",
    "y = 6\n",
    "\n",
    "if not x==y:\n",
    "    print('In block 1')\n",
    "    print('They are not equal!')\n",
    "    \n",
    "elif x>y:\n",
    "    print('In block 2')\n",
    "    print('x is more than y')\n",
    "\n",
    "else:\n",
    "    print('In block 3')\n",
    "    print('y is more than x')"
   ]
  },
  {
   "cell_type": "markdown",
   "metadata": {},
   "source": [
    "Note the indentation within each code block. It is essential that all code within the same block have the same indentation level."
   ]
  },
  {
   "cell_type": "markdown",
   "metadata": {},
   "source": [
    "[PEP 8](https://www.python.org/dev/peps/pep-0008/) sytle specifies that code blocks should be indented not with tabs but with **4 spaces**. This makes code maintenence a lot easier. I strongly recommend you adhere to this convention. "
   ]
  },
  {
   "cell_type": "markdown",
   "metadata": {},
   "source": [
    "## Loops"
   ]
  },
  {
   "cell_type": "markdown",
   "metadata": {},
   "source": [
    "In some fundamental sense, \"loops\" are what make a program a program. As in most programming languages there are two primary kinds of loops: \"for\" loops and \"while\" loops. "
   ]
  },
  {
   "cell_type": "markdown",
   "metadata": {},
   "source": [
    "``for`` loops execute the enclosed \"code block\" for each element in an array (such as a list)"
   ]
  },
  {
   "cell_type": "code",
   "execution_count": null,
   "metadata": {},
   "outputs": [],
   "source": [
    "# Print all characters in a string one-by-one\n",
    "s = 'Hi there URPs!'\n",
    "for c in s:\n",
    "    print(c)"
   ]
  },
  {
   "cell_type": "markdown",
   "metadata": {},
   "source": [
    "List comprehensions provide a quick way to write a for loop"
   ]
  },
  {
   "cell_type": "code",
   "execution_count": null,
   "metadata": {},
   "outputs": [],
   "source": [
    "# Print all characters in a string one-by-one\n",
    "s = 'Hi there URPs!'\n",
    "v = [x for x in s]\n",
    "print('v = ',v)\n",
    "print('\\n'.join(v))"
   ]
  },
  {
   "cell_type": "markdown",
   "metadata": {},
   "source": [
    "``enumerate()`` is the Pythonic way of counting while you loop"
   ]
  },
  {
   "cell_type": "code",
   "execution_count": null,
   "metadata": {},
   "outputs": [],
   "source": [
    "# Print all characters in a string one-by-one, numbering each one\n",
    "s = 'Hi there URPs!'\n",
    "for i,c in enumerate(s):\n",
    "    print(\"s[%d] = %s\"%(i,c))"
   ]
  },
  {
   "cell_type": "code",
   "execution_count": null,
   "metadata": {},
   "outputs": [],
   "source": [
    "# Enumerate can be thought of as producing a list of tuples. \n",
    "v = [\"s[%d] = %s\"%(i,c) for i,c in enumerate(s)]\n",
    "print('\\n'.join(v))"
   ]
  },
  {
   "cell_type": "markdown",
   "metadata": {},
   "source": [
    "``range`` is a pythonic way of looping over integers"
   ]
  },
  {
   "cell_type": "code",
   "execution_count": null,
   "metadata": {},
   "outputs": [],
   "source": [
    "# To print all nubmers from 0 to 9\n",
    "for x in range(10):\n",
    "    print(x)"
   ]
  },
  {
   "cell_type": "markdown",
   "metadata": {},
   "source": [
    "The ``while`` loop keeps going as long as the argument it is passed evaluates to \"True\""
   ]
  },
  {
   "cell_type": "code",
   "execution_count": null,
   "metadata": {},
   "outputs": [],
   "source": [
    "# Print a geometric progression of numbers up to some specific value\n",
    "x = 1\n",
    "x_max = 3\n",
    "while x < x_max:\n",
    "    x *= 1.1\n",
    "    print(x)"
   ]
  },
  {
   "cell_type": "markdown",
   "metadata": {},
   "source": [
    "When using while loops, make very sure that your loop will actually end at some point. If your loop continues without end, go to \"Kernel -> Interrupt\" in the menu above. If your computer still acts strange, select \"Kernel -> Restart\". You will then have to evaluate your ipython notebook from the beginning. "
   ]
  },
  {
   "cell_type": "markdown",
   "metadata": {},
   "source": [
    "## Example: computing $\\pi$\n",
    "\n",
    "We will now write a function to compute $\\pi$ using the **Leibnitz series**:\n",
    "\n",
    "$$\\pi = 4 \\left(1 - \\frac{1}{3} + \\frac{1}{5} - \\frac{1}{7} + \\cdots + \\frac{(-1)^n}{2n+1} + \\cdots \\right)$$\n",
    "\n"
   ]
  },
  {
   "cell_type": "code",
   "execution_count": null,
   "metadata": {},
   "outputs": [],
   "source": [
    "# Compute the first 500 terms in the Leibnitz series\n",
    "pi_v1 = 0\n",
    "for n in range(500):\n",
    "    pi_v1 += 4 * (-1)**n / (2*n + 1)\n",
    "    \n",
    "print('approximation:\\n %0.10f'%pi_v1)\n",
    "print('real:\\n %0.10f'%np.pi)"
   ]
  },
  {
   "cell_type": "markdown",
   "metadata": {
    "collapsed": true
   },
   "source": [
    "Here's a better approximation, the **Madhava series**:\n",
    "\n",
    "$$ \\pi = \\sqrt{12} \\left( 1 - \\frac{1}{3 \\cdot 3} + \\frac{1}{5 \\cdot 3^2}  - \\frac{1}{7 \\cdot 3^3}  + \\cdots + \\frac{(-1)^n}{(2n+1)\\cdot 3^n} + \\cdots\\right) $$"
   ]
  },
  {
   "cell_type": "code",
   "execution_count": null,
   "metadata": {},
   "outputs": [],
   "source": [
    "# Compute the first 20 terms in the Madhava series\n",
    "pi_v2 = 0\n",
    "for n in range(20):\n",
    "    pi_v2 += np.sqrt(12) * (-1.)**n / ((2*n + 1.)*3**n)\n",
    "    \n",
    "print('approximation:\\n %0.10f'%pi_v2)\n",
    "print('real:\\n %0.10f'%np.pi)"
   ]
  },
  {
   "cell_type": "markdown",
   "metadata": {},
   "source": [
    "Another way to compute $\\pi$ is the **dartboard method**: compute the fraction of random numbers within the unit square that are within distance 1/2 of the point (0.5,0.5). "
   ]
  },
  {
   "cell_type": "code",
   "execution_count": null,
   "metadata": {},
   "outputs": [],
   "source": [
    "# To create random numbers, use the np.random module. \n",
    "v = np.random.rand(10)\n",
    "v"
   ]
  },
  {
   "cell_type": "code",
   "execution_count": null,
   "metadata": {},
   "outputs": [],
   "source": [
    "# This produces a numpy array\n",
    "type(v)"
   ]
  },
  {
   "cell_type": "code",
   "execution_count": null,
   "metadata": {},
   "outputs": [],
   "source": [
    "# Mathematical operations can be perform on numpy arrays\n",
    "w = v**2\n",
    "print('w == ', w)\n",
    "\n",
    "u = np.cos(v)\n",
    "print('u == ', u)"
   ]
  },
  {
   "cell_type": "code",
   "execution_count": null,
   "metadata": {},
   "outputs": [],
   "source": [
    "# Mathematical operations cannot be performed on lists\n",
    "v_list = list(v)\n",
    "v_list**2"
   ]
  },
  {
   "cell_type": "code",
   "execution_count": null,
   "metadata": {},
   "outputs": [],
   "source": [
    "# Lists are readily converted to numpy arrays\n",
    "v_array = np.array(v_list)\n",
    "print('v_list == ' + repr(v_list))\n",
    "print('v_array == ' + repr(v_array))"
   ]
  },
  {
   "cell_type": "code",
   "execution_count": null,
   "metadata": {},
   "outputs": [],
   "source": [
    "# Draw coordantes for darts\n",
    "N = 3000\n",
    "xs = np.random.rand(N) \n",
    "ys = np.random.rand(N)\n",
    "print('xs =', xs)\n",
    "print('ys =', ys)"
   ]
  },
  {
   "cell_type": "code",
   "execution_count": null,
   "metadata": {},
   "outputs": [],
   "source": [
    "# Check to see what xs and ys look like\n",
    "plt.plot(xs,ys,'.')"
   ]
  },
  {
   "cell_type": "code",
   "execution_count": null,
   "metadata": {},
   "outputs": [],
   "source": [
    "# Compute distances\n",
    "dists = np.sqrt((xs-.5)**2 + (ys-.5)**2)\n",
    "print('dists =', dists)"
   ]
  },
  {
   "cell_type": "code",
   "execution_count": null,
   "metadata": {},
   "outputs": [],
   "source": [
    "# Compute hits\n",
    "hits = dists < .5\n",
    "print('hits =', hits)"
   ]
  },
  {
   "cell_type": "code",
   "execution_count": null,
   "metadata": {},
   "outputs": [],
   "source": [
    "# Compute number of hits\n",
    "num_hits = sum(hits)\n",
    "num_hits"
   ]
  },
  {
   "cell_type": "code",
   "execution_count": null,
   "metadata": {},
   "outputs": [],
   "source": [
    "# Estimate pi from hits\n",
    "pi_v3 = 4*num_hits/N\n",
    "\n",
    "print('approximation:\\n %0.10f'%pi_v3)\n",
    "print('real:\\n %0.10f'%np.pi)\n",
    "print('correct to %0.3f%%'%(abs(pi_v3 - np.pi)*100/np.pi))"
   ]
  },
  {
   "cell_type": "code",
   "execution_count": null,
   "metadata": {},
   "outputs": [],
   "source": [
    "# Plot the points in the circle\n",
    "#plt.plot(xs[hits][:10],ys[hits][:10],'.c')\n",
    "plt.plot(xs[hits],ys[hits],'.',color='tomato')"
   ]
  },
  {
   "cell_type": "code",
   "execution_count": null,
   "metadata": {},
   "outputs": [],
   "source": [
    "# Plot the points outside of the circle\n",
    "plt.plot(xs[~hits],ys[~hits],'.b')"
   ]
  },
  {
   "cell_type": "code",
   "execution_count": null,
   "metadata": {},
   "outputs": [],
   "source": [
    "# Clean up the plot\n",
    "plt.figure(figsize=[5,5])\n",
    "plt.plot(xs[hits],ys[hits],'.c')\n",
    "plt.plot(xs[~hits],ys[~hits],'.b')\n",
    "plt.plot(.5,.5,'o',markersize=10,color='tomato')\n",
    "plt.xlabel('x')\n",
    "plt.ylabel('y')\n",
    "plt.title('%d of %d points in target area'%(sum(hits),N))"
   ]
  },
  {
   "cell_type": "markdown",
   "metadata": {},
   "source": [
    "## Functions"
   ]
  },
  {
   "cell_type": "markdown",
   "metadata": {},
   "source": [
    "Finally, we illustrate how to define a function. Instead of defining a single line function (which is readily done), the following example illustrates various good practices"
   ]
  },
  {
   "cell_type": "code",
   "execution_count": null,
   "metadata": {},
   "outputs": [],
   "source": [
    "def factorial(n):\n",
    "    \"\"\"\n",
    "    Returns n factorial. \n",
    "    n must be a nonnegative integer.\n",
    "    \"\"\" # This is a \"doc string\"\n",
    "    \n",
    "    # Thow an error if n does not have the right form\n",
    "    assert isinstance(n,int),'Input is not an integer' \n",
    "    assert n >= 0,'Input is not nonnegative' \n",
    "    assert n <= 1000,'Intput is too large!'\n",
    "    \n",
    "    # Initialize return variable\n",
    "    val = 1\n",
    "    \n",
    "    # Loop over i=1,2,...,n\n",
    "    for i in range(1,n+1):   \n",
    "        val *= i\n",
    "        \n",
    "    return val  # Returns val to the user"
   ]
  },
  {
   "cell_type": "markdown",
   "metadata": {},
   "source": [
    "We test this function by computing n! for n=1,2,...10"
   ]
  },
  {
   "cell_type": "code",
   "execution_count": null,
   "metadata": {},
   "outputs": [],
   "source": [
    "for n in range(10):\n",
    "    print(str(n) + '! is ' + str(factorial(n)))"
   ]
  },
  {
   "cell_type": "markdown",
   "metadata": {},
   "source": [
    "Just as important as making sure functions corectly process valid input correctly is to make sure they FAIL when provided with invalid input. Before a function does anything, it should test the validity of its input"
   ]
  },
  {
   "cell_type": "code",
   "execution_count": null,
   "metadata": {},
   "outputs": [],
   "source": [
    "# This should fail\n",
    "print(factorial(1.1))"
   ]
  },
  {
   "cell_type": "code",
   "execution_count": null,
   "metadata": {},
   "outputs": [],
   "source": [
    "# This should fail\n",
    "print(factorial(-10))"
   ]
  },
  {
   "cell_type": "code",
   "execution_count": null,
   "metadata": {},
   "outputs": [],
   "source": [
    "# This should fail\n",
    "print(factorial(\"I'm not even a number!\"))"
   ]
  },
  {
   "cell_type": "code",
   "execution_count": null,
   "metadata": {},
   "outputs": [],
   "source": [
    "# Also worth testing boundary cases\n",
    "print('0! ==', factorial(0))\n",
    "print('1000! ==', factorial(1000))"
   ]
  },
  {
   "cell_type": "markdown",
   "metadata": {},
   "source": [
    "The docstring is accessible from within python, and is often very useful. Execute the following command and a window will pop up that describes what this function does."
   ]
  },
  {
   "cell_type": "code",
   "execution_count": null,
   "metadata": {},
   "outputs": [],
   "source": [
    "# Display docstring for factorial()\n",
    "help(factorial)"
   ]
  },
  {
   "cell_type": "code",
   "execution_count": null,
   "metadata": {
    "collapsed": true
   },
   "outputs": [],
   "source": [
    "factorial?"
   ]
  },
  {
   "cell_type": "markdown",
   "metadata": {},
   "source": [
    "## Exercise\n",
    "\n",
    "1) Use a while loop to determine the number of terms in the Leibnitz approximation for $\\pi$ needed to achieve the accuracy $|\\pi_{est} - \\pi| < 0.001$.\n",
    "\n",
    "2) Encapsulate this code in a function which that takes the specified accuracy as an argument. Check user input to make sure that it makes sense. "
   ]
  },
  {
   "cell_type": "code",
   "execution_count": null,
   "metadata": {},
   "outputs": [],
   "source": [
    "# Write code for Exercise 1 here"
   ]
  },
  {
   "cell_type": "code",
   "execution_count": null,
   "metadata": {
    "collapsed": true
   },
   "outputs": [],
   "source": [
    "# Write code for Exercise 2 here"
   ]
  }
 ],
 "metadata": {
  "kernelspec": {
   "display_name": "anaconda_kernel",
   "language": "python",
   "name": "anaconda_kernel"
  },
  "language_info": {
   "codemirror_mode": {
    "name": "ipython",
    "version": 3
   },
   "file_extension": ".py",
   "mimetype": "text/x-python",
   "name": "python",
   "nbconvert_exporter": "python",
   "pygments_lexer": "ipython3",
   "version": "3.6.3"
  }
 },
 "nbformat": 4,
 "nbformat_minor": 1
}
